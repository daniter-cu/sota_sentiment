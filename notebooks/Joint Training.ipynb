{
 "cells": [
  {
   "cell_type": "code",
   "execution_count": 52,
   "metadata": {},
   "outputs": [],
   "source": [
    "%load_ext autoreload\n",
    "%autoreload 2"
   ]
  },
  {
   "cell_type": "markdown",
   "metadata": {},
   "source": [
    "# Joint Training\n",
    "The idea here is to train on many languages and see if we learn better on the held out languages.  \n",
    "\n",
    "Note that this is a precursor for a type of meta-learning at the language level"
   ]
  },
  {
   "cell_type": "markdown",
   "metadata": {},
   "source": [
    "### Parse Spanish Movie Data"
   ]
  },
  {
   "cell_type": "code",
   "execution_count": 75,
   "metadata": {},
   "outputs": [],
   "source": [
    "from scripts.es_movie_dataset import get_dataset, split_data"
   ]
  },
  {
   "cell_type": "code",
   "execution_count": 143,
   "metadata": {},
   "outputs": [],
   "source": [
    "es_data = get_dataset()\n",
    "es_train_data, es_train_labels, es_test_data, es_test_labels = split_data(es_data)"
   ]
  },
  {
   "cell_type": "markdown",
   "metadata": {},
   "source": [
    "## Baseline 1: Train only one the true distribution"
   ]
  },
  {
   "cell_type": "code",
   "execution_count": 118,
   "metadata": {},
   "outputs": [],
   "source": [
    "from scripts.training import train"
   ]
  },
  {
   "cell_type": "code",
   "execution_count": null,
   "metadata": {},
   "outputs": [
    {
     "name": "stdout",
     "output_type": "stream",
     "text": [
      "parsing training data\n",
      "Estimated runtime 21.203430891036987\n",
      "parsing test data\n",
      "Estimated runtime 11.292745113372803\n",
      "Done parsing data\n",
      "Train on 2961 samples, validate on 753 samples\n",
      "Epoch 1/12\n",
      "2961/2961 [==============================] - 185s 63ms/step - loss: 1.1003 - acc: 0.3431 - val_loss: 1.0978 - val_acc: 0.3333\n",
      "\n",
      "Epoch 00001: val_acc improved from -inf to 0.33333, saving model to models/bilstm/SpanishMovieReview/run/weights.001-0.3333.hdf5\n",
      "Epoch 2/12\n",
      "2961/2961 [==============================] - 175s 59ms/step - loss: 1.0896 - acc: 0.3880 - val_loss: 1.0810 - val_acc: 0.4143\n",
      "\n",
      "Epoch 00002: val_acc improved from 0.33333 to 0.41434, saving model to models/bilstm/SpanishMovieReview/run/weights.002-0.4143.hdf5\n",
      "Epoch 3/12\n",
      " 640/2961 [=====>........................] - ETA: 2:05 - loss: 1.0829 - acc: 0.3859"
     ]
    }
   ],
   "source": [
    "max_len_char = 5000\n",
    "hist, clf = train(es_train_data, es_test_data, es_train_labels, es_test_labels, 'es')"
   ]
  },
  {
   "cell_type": "markdown",
   "metadata": {},
   "source": [
    "## Baseline 2: Train only on the distant distribution (zero shot)"
   ]
  },
  {
   "cell_type": "markdown",
   "metadata": {},
   "source": [
    "## Experiment 1: Train on multiple other languages + zero shot"
   ]
  },
  {
   "cell_type": "markdown",
   "metadata": {},
   "source": [
    "## Experiment 2: Train on multiple languages (or just english) and the true distribution"
   ]
  },
  {
   "cell_type": "code",
   "execution_count": null,
   "metadata": {},
   "outputs": [],
   "source": []
  }
 ],
 "metadata": {
  "kernelspec": {
   "display_name": "Python 3",
   "language": "python",
   "name": "python3"
  },
  "language_info": {
   "codemirror_mode": {
    "name": "ipython",
    "version": 3
   },
   "file_extension": ".py",
   "mimetype": "text/x-python",
   "name": "python",
   "nbconvert_exporter": "python",
   "pygments_lexer": "ipython3",
   "version": "3.6.4"
  }
 },
 "nbformat": 4,
 "nbformat_minor": 2
}
